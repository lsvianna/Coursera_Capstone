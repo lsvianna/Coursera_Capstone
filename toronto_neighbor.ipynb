{
    "cells": [
        {
            "metadata": {},
            "cell_type": "code",
            "source": "import pandas as pd\nimport numpy as np\nimport requests",
            "execution_count": 1,
            "outputs": []
        },
        {
            "metadata": {},
            "cell_type": "markdown",
            "source": "# Read the table from the Wikipedia site"
        },
        {
            "metadata": {},
            "cell_type": "code",
            "source": "url = 'https://en.wikipedia.org/wiki/List_of_postal_codes_of_Canada:_M'\ndata = pd.read_html(url, flavor = 'bs4')",
            "execution_count": 2,
            "outputs": []
        },
        {
            "metadata": {},
            "cell_type": "markdown",
            "source": "# Define a function to arrange the dataset"
        },
        {
            "metadata": {},
            "cell_type": "code",
            "source": "def str_extract(x):\n    if 'Not assigned' in x:\n        postal_code = str(x)[0:4]\n        borough = neighbor = np.nan\n    else:\n        postal_code = str(x)[0:4]\n        bor_neig = str(x).split('(')\n        borough = bor_neig[0]\n        neighbor = bor_neig[1].replace(')', '').replace(' /', ',')\n        if neighbor == '': neighbor = borough\n        \n    return [postal_code, borough, neighbor]",
            "execution_count": 3,
            "outputs": []
        },
        {
            "metadata": {},
            "cell_type": "markdown",
            "source": "# Filter and create a structured dataset"
        },
        {
            "metadata": {},
            "cell_type": "code",
            "source": "data_stacked = data[0].applymap(str_extract).stack()\nnew_list = []\nfor x in data_stacked:\n    new_list.append(x)\ndataset = pd.DataFrame(new_list, columns = ['PostalCode', 'Borough', 'Neighborhood'])",
            "execution_count": 4,
            "outputs": []
        },
        {
            "metadata": {},
            "cell_type": "code",
            "source": "dataset.shape",
            "execution_count": 5,
            "outputs": [
                {
                    "output_type": "execute_result",
                    "execution_count": 5,
                    "data": {
                        "text/plain": "(180, 3)"
                    },
                    "metadata": {}
                }
            ]
        }
    ],
    "metadata": {
        "kernelspec": {
            "name": "python3",
            "display_name": "Python 3.7",
            "language": "python"
        },
        "language_info": {
            "name": "python",
            "version": "3.7.10",
            "mimetype": "text/x-python",
            "codemirror_mode": {
                "name": "ipython",
                "version": 3
            },
            "pygments_lexer": "ipython3",
            "nbconvert_exporter": "python",
            "file_extension": ".py"
        }
    },
    "nbformat": 4,
    "nbformat_minor": 1
}